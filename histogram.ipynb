{
 "cells": [
  {
   "cell_type": "code",
   "execution_count": 3,
   "id": "f529ea68",
   "metadata": {},
   "outputs": [],
   "source": [
    "from PIL import Image\n",
    "im=Image.open(\"3.jpg\")\n",
    "im_t=im.point(lambda x:255-x)\n",
    "im_t.show()"
   ]
  },
  {
   "cell_type": "code",
   "execution_count": 4,
   "id": "28886164",
   "metadata": {
    "scrolled": true
   },
   "outputs": [
    {
     "data": {
      "text/plain": [
       "<BarContainer object of 256 artists>"
      ]
     },
     "execution_count": 4,
     "metadata": {},
     "output_type": "execute_result"
    },
    {
     "data": {
      "image/png": "[encoded data removed]",
      "text/plain": [
       "<Figure size 432x288 with 1 Axes>"
      ]
     },
     "metadata": {
      "needs_background": "light"
     },
     "output_type": "display_data"
    }
   ],
   "source": [
    "import matplotlib.pyplot as plt\n",
    "im=Image.open(\"44.jpg\")\n",
    "pl=im.histogram()\n",
    "plt.bar(range(256),pl[:256],color='r',alpha=0.5)\n",
    "plt.bar(range(256),pl[256:2*256],color='g',alpha=0.4)\n",
    "plt.bar(range(256),pl[2*256:],color='b',alpha=0.3)\n"
   ]
  },
  {
   "cell_type": "code",
   "execution_count": null,
   "id": "6a7d766f",
   "metadata": {},
   "outputs": [],
   "source": []
  }
 ],
 "metadata": {
  "kernelspec": {
   "display_name": "Python 3 (ipykernel)",
   "language": "python",
   "name": "python3"
  },
  "language_info": {
   "codemirror_mode": {
    "name": "ipython",
    "version": 3
   },
   "file_extension": ".py",
   "mimetype": "text/x-python",
   "name": "python",
   "nbconvert_exporter": "python",
   "pygments_lexer": "ipython3",
   "version": "3.9.7"
  }
 },
 "nbformat": 4,
 "nbformat_minor": 5
}
