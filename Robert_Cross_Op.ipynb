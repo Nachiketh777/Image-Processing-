{
 "cells": [
  {
   "cell_type": "code",
   "execution_count": 1,
   "id": "fb694923",
   "metadata": {},
   "outputs": [],
   "source": [
    "import cv2\n",
    "import numpy as np\n",
    "from scipy import ndimage\n",
    "from matplotlib import pyplot as plt"
   ]
  },
  {
   "cell_type": "code",
   "execution_count": 2,
   "id": "1f71d09e",
   "metadata": {},
   "outputs": [],
   "source": [
    "roberts_cross_v=np.array([[1,0],\n",
    "                         [0,-1]])\n",
    "roberts_cross_h=np.array([[0,1],\n",
    "                         [-1,0]])"
   ]
  },
  {
   "cell_type": "code",
   "execution_count": 3,
   "id": "e187b5a4",
   "metadata": {},
   "outputs": [
    {
     "name": "stderr",
     "output_type": "stream",
     "text": [
      "C:\\Users\\User\\AppData\\Local\\Temp/ipykernel_13624/875820109.py:6: RuntimeWarning: invalid value encountered in sqrt\n",
      "  edged_img=np.sqrt(np.sqrt(horizontal)+np.square(vertical))\n"
     ]
    }
   ],
   "source": [
    "img=cv2.imread(\"44.jpg\",0).astype('float64')\n",
    "img/=255.0\n",
    "vertical=ndimage.convolve(img,roberts_cross_v)\n",
    "horizontal=ndimage.convolve(img,roberts_cross_h)\n",
    "\n",
    "edged_img=np.sqrt(np.sqrt(horizontal)+np.square(vertical))\n",
    "edged_img*=255\n",
    "cv2.imwrite('output.jpg',edged_img)\n",
    "cv2.imshow('output image',edged_img)\n",
    "cv2.waitKey()\n",
    "cv2.destroyAllWindows()"
   ]
  },
  {
   "cell_type": "code",
   "execution_count": null,
   "id": "4a244412",
   "metadata": {},
   "outputs": [],
   "source": []
  }
 ],
 "metadata": {
  "kernelspec": {
   "display_name": "Python 3 (ipykernel)",
   "language": "python",
   "name": "python3"
  },
  "language_info": {
   "codemirror_mode": {
    "name": "ipython",
    "version": 3
   },
   "file_extension": ".py",
   "mimetype": "text/x-python",
   "name": "python",
   "nbconvert_exporter": "python",
   "pygments_lexer": "ipython3",
   "version": "3.9.7"
  }
 },
 "nbformat": 4,
 "nbformat_minor": 5
}
