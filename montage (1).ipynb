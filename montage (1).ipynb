{
 "cells": [
  {
   "cell_type": "code",
   "execution_count": 5,
   "id": "803a78ac",
   "metadata": {},
   "outputs": [
    {
     "name": "stdout",
     "output_type": "stream",
     "text": [
      "[[1 2 3]\n",
      " [4 5 6]]\n"
     ]
    }
   ],
   "source": [
    "import numpy as np\n",
    "import skimage.util\n",
    "a=np.arange(1,7).reshape(2,3)\n",
    "print(a)"
   ]
  },
  {
   "cell_type": "code",
   "execution_count": 7,
   "id": "11255a72",
   "metadata": {},
   "outputs": [],
   "source": [
    "b=a*10"
   ]
  },
  {
   "cell_type": "code",
   "execution_count": 8,
   "id": "3754b7ef",
   "metadata": {},
   "outputs": [
    {
     "name": "stdout",
     "output_type": "stream",
     "text": [
      "[[100 200 300]\n",
      " [400 500 600]]\n"
     ]
    }
   ],
   "source": [
    "c=a*100\n",
    "print(c)"
   ]
  },
  {
   "cell_type": "code",
   "execution_count": 9,
   "id": "44cde390",
   "metadata": {},
   "outputs": [
    {
     "name": "stdout",
     "output_type": "stream",
     "text": [
      "[[  1   2   3  10  20  30]\n",
      " [  4   5   6  40  50  60]\n",
      " [100 200 300 129 129 129]\n",
      " [400 500 600 129 129 129]]\n"
     ]
    }
   ],
   "source": [
    "m=skimage.util.montage([a,b,c])\n",
    "print(m)"
   ]
  },
  {
   "cell_type": "code",
   "execution_count": 10,
   "id": "157b19ff",
   "metadata": {},
   "outputs": [
    {
     "name": "stdout",
     "output_type": "stream",
     "text": [
      "(4, 6)\n"
     ]
    }
   ],
   "source": [
    "print(m.shape)"
   ]
  },
  {
   "cell_type": "code",
   "execution_count": 11,
   "id": "55549115",
   "metadata": {},
   "outputs": [
    {
     "name": "stdout",
     "output_type": "stream",
     "text": [
      "[[[  1   2   3]\n",
      "  [  4   5   6]]\n",
      "\n",
      " [[ 10  20  30]\n",
      "  [ 40  50  60]]\n",
      "\n",
      " [[100 200 300]\n",
      "  [400 500 600]]]\n"
     ]
    }
   ],
   "source": [
    "abc=np.array([a,b,c])\n",
    "print(abc)"
   ]
  },
  {
   "cell_type": "code",
   "execution_count": 12,
   "id": "c9572550",
   "metadata": {},
   "outputs": [
    {
     "name": "stdout",
     "output_type": "stream",
     "text": [
      "(3, 2, 3)\n"
     ]
    }
   ],
   "source": [
    "print(abc.shape)"
   ]
  },
  {
   "cell_type": "code",
   "execution_count": 14,
   "id": "4e9f66ec",
   "metadata": {},
   "outputs": [
    {
     "name": "stdout",
     "output_type": "stream",
     "text": [
      "[[  1   2   3  10  20  30]\n",
      " [  4   5   6  40  50  60]\n",
      " [100 200 300 129 129 129]\n",
      " [400 500 600 129 129 129]]\n"
     ]
    }
   ],
   "source": [
    "print(skimage.util.montage(abc))"
   ]
  },
  {
   "cell_type": "code",
   "execution_count": 15,
   "id": "584ceed0",
   "metadata": {},
   "outputs": [
    {
     "name": "stdout",
     "output_type": "stream",
     "text": [
      "[[1 2]\n",
      " [4 5]]\n"
     ]
    }
   ],
   "source": [
    "d=a[:,:2]\n",
    "print(d)"
   ]
  },
  {
   "cell_type": "code",
   "execution_count": 17,
   "id": "32a65a5b",
   "metadata": {},
   "outputs": [
    {
     "name": "stdout",
     "output_type": "stream",
     "text": [
      "129.5\n"
     ]
    }
   ],
   "source": [
    "print(np.mean(np.array([a,b,c],)))"
   ]
  },
  {
   "cell_type": "code",
   "execution_count": 19,
   "id": "6a6a243b",
   "metadata": {},
   "outputs": [
    {
     "name": "stdout",
     "output_type": "stream",
     "text": [
      "[[  1   2   3  10  20  30]\n",
      " [  4   5   6  40  50  60]\n",
      " [100 200 300   0   0   0]\n",
      " [400 500 600   0   0   0]]\n"
     ]
    }
   ],
   "source": [
    "print(skimage.util.montage([a,b,c],fill=0))"
   ]
  },
  {
   "cell_type": "code",
   "execution_count": 20,
   "id": "5739959a",
   "metadata": {},
   "outputs": [
    {
     "name": "stdout",
     "output_type": "stream",
     "text": [
      "[[  1   2   3]\n",
      " [  4   5   6]\n",
      " [ 10  20  30]\n",
      " [ 40  50  60]\n",
      " [100 200 300]\n",
      " [400 500 600]]\n"
     ]
    }
   ],
   "source": [
    "print(skimage.util.montage([a,b,c],grid_shape=(3,1)))"
   ]
  },
  {
   "cell_type": "code",
   "execution_count": 21,
   "id": "9f3fd8dd",
   "metadata": {},
   "outputs": [
    {
     "name": "stdout",
     "output_type": "stream",
     "text": [
      "[[  1   2   3  10  20  30 100 200 300]\n",
      " [  4   5   6  40  50  60 400 500 600]\n",
      " [129 129 129 129 129 129 129 129 129]\n",
      " [129 129 129 129 129 129 129 129 129]]\n"
     ]
    }
   ],
   "source": [
    "print(skimage.util.montage([a,b,c],grid_shape=(2,3)))"
   ]
  },
  {
   "cell_type": "code",
   "execution_count": 22,
   "id": "4c9ef366",
   "metadata": {},
   "outputs": [
    {
     "name": "stdout",
     "output_type": "stream",
     "text": [
      "[[  1   2   3  10  20  30 100 200 300]\n",
      " [  4   5   6  40  50  60 400 500 600]\n",
      " [  0   0   0   0   0   0   0   0   0]\n",
      " [  0   0   0   0   0   0   0   0   0]]\n"
     ]
    }
   ],
   "source": [
    "print(skimage.util.montage([a,b,c],grid_shape=(2,3),fill=0))"
   ]
  },
  {
   "cell_type": "code",
   "execution_count": 24,
   "id": "f98fd71f",
   "metadata": {},
   "outputs": [
    {
     "name": "stdout",
     "output_type": "stream",
     "text": [
      "[[129 129 129 129 129 129 129 129 129]\n",
      " [129   1   2   3 129  10  20  30 129]\n",
      " [129   4   5   6 129  40  50  60 129]\n",
      " [129 129 129 129 129 129 129 129 129]\n",
      " [129 100 200 300 129 129 129 129 129]\n",
      " [129 400 500 600 129 129 129 129 129]\n",
      " [129 129 129 129 129 129 129 129 129]]\n"
     ]
    }
   ],
   "source": [
    "print(skimage.util.montage([a,b,c], padding_width=1))"
   ]
  },
  {
   "cell_type": "code",
   "execution_count": 25,
   "id": "32452371",
   "metadata": {},
   "outputs": [
    {
     "name": "stdout",
     "output_type": "stream",
     "text": [
      "[[  0   0   0   0   0   0   0   0   0]\n",
      " [  0   1   2   3   0  10  20  30   0]\n",
      " [  0   4   5   6   0  40  50  60   0]\n",
      " [  0   0   0   0   0   0   0   0   0]\n",
      " [  0 100 200 300   0   0   0   0   0]\n",
      " [  0 400 500 600   0   0   0   0   0]\n",
      " [  0   0   0   0   0   0   0   0   0]]\n"
     ]
    }
   ],
   "source": [
    "print(skimage.util.montage([a,b,c], padding_width=1,fill=0))"
   ]
  },
  {
   "cell_type": "code",
   "execution_count": 26,
   "id": "4fff9153",
   "metadata": {},
   "outputs": [
    {
     "name": "stdout",
     "output_type": "stream",
     "text": [
      "(400, 400, 3)\n",
      "(800, 800, 3)\n"
     ]
    }
   ],
   "source": [
    "import skimage.io \n",
    "import skimage.util\n",
    "a=skimage.io.imread('44.jpg')\n",
    "print(a.shape)\n",
    "b=a//2\n",
    "c=a//3\n",
    "m=skimage.util.montage([a,b,c], multichannel=True)\n",
    "print(m.shape)\n",
    "skimage.io.imsave(\"D:/Image_processing/montage.jpg\",m)\n"
   ]
  },
  {
   "cell_type": "code",
   "execution_count": 27,
   "id": "4c6b8705",
   "metadata": {},
   "outputs": [
    {
     "name": "stdout",
     "output_type": "stream",
     "text": [
      "(420, 1240, 3)\n"
     ]
    }
   ],
   "source": [
    "m_1_3_pad=skimage.util.montage([a,b,c],\n",
    "                              fill=(0,0,0),\n",
    "                              grid_shape=(1,3),\n",
    "                              padding_width=10,\n",
    "                               multichannel=True)\n",
    "print(m_1_3_pad.shape)\n",
    "skimage.io.imsave(\"D:/Image_processing/montage_pad.jpg\",m_1_3_pad)"
   ]
  },
  {
   "cell_type": "code",
   "execution_count": null,
   "id": "79257ba2",
   "metadata": {},
   "outputs": [],
   "source": []
  }
 ],
 "metadata": {
  "kernelspec": {
   "display_name": "Python 3 (ipykernel)",
   "language": "python",
   "name": "python3"
  },
  "language_info": {
   "codemirror_mode": {
    "name": "ipython",
    "version": 3
   },
   "file_extension": ".py",
   "mimetype": "text/x-python",
   "name": "python",
   "nbconvert_exporter": "python",
   "pygments_lexer": "ipython3",
   "version": "3.9.7"
  }
 },
 "nbformat": 4,
 "nbformat_minor": 5
}
