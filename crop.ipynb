{
 "cells": [
  {
   "cell_type": "code",
   "execution_count": 18,
   "id": "d0a76e83",
   "metadata": {},
   "outputs": [
    {
     "name": "stdout",
     "output_type": "stream",
     "text": [
      "(1024, 768)\n"
     ]
    }
   ],
   "source": [
    "from PIL import Image\n",
    "im=Image.open('3.jpg')\n",
    "im.save('3.gif')\n",
    "print(im.size)"
   ]
  },
  {
   "cell_type": "code",
   "execution_count": 7,
   "id": "136080d3",
   "metadata": {},
   "outputs": [
    {
     "name": "stdout",
     "output_type": "stream",
     "text": [
      "RGB\n"
     ]
    }
   ],
   "source": [
    "print(im.mode)"
   ]
  },
  {
   "cell_type": "code",
   "execution_count": 1,
   "id": "25e6868d",
   "metadata": {},
   "outputs": [],
   "source": [
    "import cv2\n",
    "image=cv2.imread(\"3.jpg\")\n",
    "crop=image[50:200,100:400]\n",
    "cv2.imshow(\"original\",image)\n",
    "cv2.imshow(\"cropped\",crop)\n",
    "cv2.waitKey(0)\n",
    "cv2.destroyAllWindows()"
   ]
  },
  {
   "cell_type": "code",
   "execution_count": null,
   "id": "cf8c5ee0",
   "metadata": {},
   "outputs": [],
   "source": []
  }
 ],
 "metadata": {
  "kernelspec": {
   "display_name": "Python 3 (ipykernel)",
   "language": "python",
   "name": "python3"
  },
  "language_info": {
   "codemirror_mode": {
    "name": "ipython",
    "version": 3
   },
   "file_extension": ".py",
   "mimetype": "text/x-python",
   "name": "python",
   "nbconvert_exporter": "python",
   "pygments_lexer": "ipython3",
   "version": "3.9.7"
  }
 },
 "nbformat": 4,
 "nbformat_minor": 5
}
