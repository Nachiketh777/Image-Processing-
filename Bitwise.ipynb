{
 "cells": [
  {
   "cell_type": "code",
   "execution_count": 1,
   "id": "60645d36",
   "metadata": {},
   "outputs": [],
   "source": [
    "import cv2 as cv\n",
    "img1 = cv.imread('circle.jpg')\n",
    "img2 = cv.imread('square.jpg')\n",
    "bitwise_AND = cv.bitwise_and(img1, img2)\n",
    "bitwise_OR = cv.bitwise_or(img1, img2)\n",
    "bitwise_NOT = cv.bitwise_not(img1)\n",
    "bitwise_XOR=cv.bitwise_xor(img1,img2)\n",
    "cv.imshow('AND',bitwise_AND)\n",
    "cv.imshow('OR',bitwise_OR)\n",
    "cv.imshow('NOT',bitwise_NOT)\n",
    "cv.imshow('XOR',bitwise_XOR)\n",
    "cv.waitKey(0)\n",
    "cv.destroyAllWindows()"
   ]
  },
  {
   "cell_type": "code",
   "execution_count": null,
   "id": "3e4a3aeb",
   "metadata": {},
   "outputs": [],
   "source": []
  }
 ],
 "metadata": {
  "kernelspec": {
   "display_name": "Python 3 (ipykernel)",
   "language": "python",
   "name": "python3"
  },
  "language_info": {
   "codemirror_mode": {
    "name": "ipython",
    "version": 3
   },
   "file_extension": ".py",
   "mimetype": "text/x-python",
   "name": "python",
   "nbconvert_exporter": "python",
   "pygments_lexer": "ipython3",
   "version": "3.9.7"
  }
 },
 "nbformat": 4,
 "nbformat_minor": 5
}
