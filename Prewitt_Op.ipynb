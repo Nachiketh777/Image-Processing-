{
 "cells": [
  {
   "cell_type": "code",
   "execution_count": 1,
   "id": "c817d5c5",
   "metadata": {},
   "outputs": [],
   "source": [
    "import cv2\n",
    "import numpy as np\n",
    "from matplotlib import pyplot as plt"
   ]
  },
  {
   "cell_type": "code",
   "execution_count": 2,
   "id": "42f5852f",
   "metadata": {},
   "outputs": [],
   "source": [
    "img=cv2.imread('44.jpg')\n",
    "gray=cv2.cvtColor(img,cv2.COLOR_BGR2GRAY)\n",
    "img_gaussian=cv2.GaussianBlur(gray,(3,3),0)"
   ]
  },
  {
   "cell_type": "code",
   "execution_count": 3,
   "id": "6f72a4b2",
   "metadata": {},
   "outputs": [],
   "source": [
    "kernelx=np.array([[1,1,1],[0,0,0],[-1,-1,-1]])\n",
    "kernely=np.array([[-1,0,1],[-1,0,1],[-1,0,1]])\n",
    "img_prewittx=cv2.filter2D(img_gaussian, -1, kernelx)\n",
    "img_prewitty=cv2.filter2D(img_gaussian, -1, kernely)"
   ]
  },
  {
   "cell_type": "code",
   "execution_count": 5,
   "id": "6951d4bf",
   "metadata": {},
   "outputs": [],
   "source": [
    "cv2.imshow('original image',img)\n",
    "cv2.imshow('prewitt x',img_prewittx)\n",
    "cv2.imshow('prewitt y',img_prewitty)\n",
    "cv2.imshow('prewitt',img_prewittx+img_prewitty)\n",
    "cv2.waitKey()\n",
    "cv2.destroyAllWindows()"
   ]
  },
  {
   "cell_type": "code",
   "execution_count": null,
   "id": "fd6eb5ab",
   "metadata": {},
   "outputs": [],
   "source": []
  }
 ],
 "metadata": {
  "kernelspec": {
   "display_name": "Python 3 (ipykernel)",
   "language": "python",
   "name": "python3"
  },
  "language_info": {
   "codemirror_mode": {
    "name": "ipython",
    "version": 3
   },
   "file_extension": ".py",
   "mimetype": "text/x-python",
   "name": "python",
   "nbconvert_exporter": "python",
   "pygments_lexer": "ipython3",
   "version": "3.9.7"
  }
 },
 "nbformat": 4,
 "nbformat_minor": 5
}
