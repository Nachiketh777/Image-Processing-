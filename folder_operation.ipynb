{
 "cells": [
  {
   "cell_type": "code",
   "execution_count": 3,
   "id": "ff60e1d1",
   "metadata": {},
   "outputs": [
    {
     "name": "stdout",
     "output_type": "stream",
     "text": [
      "Requirement already satisfied: pillow in c:\\users\\user\\anaconda3\\lib\\site-packages (8.4.0)\n",
      "Note: you may need to restart the kernel to use updated packages.\n"
     ]
    }
   ],
   "source": [
    "pip install pillow"
   ]
  },
  {
   "cell_type": "code",
   "execution_count": 5,
   "id": "e7f31dcb",
   "metadata": {},
   "outputs": [
    {
     "name": "stdout",
     "output_type": "stream",
     "text": [
      "Collecting os-sys\n",
      "  Using cached os_sys-2.1.4-py3-none-any.whl (15.6 MB)\n",
      "Collecting mysql-connector\n",
      "  Using cached mysql-connector-2.2.9.tar.gz (11.9 MB)\n",
      "Collecting pyvalid\n",
      "  Downloading pyvalid-1.0.4-py3-none-any.whl (11 kB)\n",
      "Collecting progressbar\n",
      "  Using cached progressbar-2.5.tar.gz (10 kB)\n",
      "Collecting sqlalchemy<1.4,>=1.3\n",
      "  Downloading SQLAlchemy-1.3.24-cp39-cp39-win_amd64.whl (1.2 MB)\n",
      "Requirement already satisfied: pandas in c:\\users\\user\\anaconda3\\lib\\site-packages (from os-sys) (1.3.4)\n",
      "Collecting pyspeedtest\n",
      "  Downloading pyspeedtest-1.2.7.tar.gz (6.8 kB)\n",
      "Collecting pyyaml<5.2,>=5.1\n",
      "  Downloading PyYAML-5.1.2.tar.gz (265 kB)\n",
      "Collecting progress\n",
      "  Downloading progress-1.6.tar.gz (7.8 kB)\n",
      "Collecting os-sys\n",
      "  Using cached os_sys-2.1.3-py3-none-any.whl (15.5 MB)\n",
      "  Using cached os_sys-2.1.2-py3-none-any.whl (15.4 MB)\n",
      "  Using cached os_sys-2.1.1-py3-none-any.whl (15.4 MB)\n",
      "  Using cached os_sys-2.1.0-py3-none-any.whl (15.9 MB)\n",
      "  Using cached os_sys-2.0.9-py3-none-any.whl (15.4 MB)\n",
      "  Using cached os_sys-2.0.8-py3-none-any.whl (15.4 MB)\n",
      "  Using cached os_sys-2.0.7-py3-none-any.whl (14.2 MB)\n",
      "  Using cached os_sys-2.0.6-py3-none-any.whl (14.2 MB)\n",
      "  Using cached os_sys-2.0.5-py3-none-any.whl (12.2 MB)\n",
      "  Using cached os_sys-2.0.4-py3-none-any.whl (50.9 MB)\n",
      "  Using cached os_sys-2.0.3-py3-none-any.whl (51.8 MB)\n",
      "  Using cached os_sys-2.0.2-py3-none-any.whl (54.1 MB)\n",
      "  Using cached os_sys-2.0.1-py3-none-any.whl (54.1 MB)\n",
      "  Using cached os_sys-2.0.0-py3-none-any.whl (54.1 MB)\n",
      "  Using cached os_sys-1.9.9-py3-none-any.whl (54.1 MB)\n",
      "  Using cached os_sys-1.9.8-py3-none-any.whl (54.1 MB)\n",
      "  Using cached os_sys-1.9.7-py3-none-any.whl (54.1 MB)\n",
      "  Using cached os_sys-1.9.6-py3-none-any.whl (54.1 MB)\n",
      "  Using cached os_sys-1.9.5-py3-none-any.whl (54.1 MB)\n",
      "  Using cached os_sys-1.9.4-py3-none-any.whl (54.1 MB)\n",
      "  Using cached os_sys-1.9.3-py3-none-any.whl (60.4 MB)\n",
      "Note: you may need to restart the kernel to use updated packages.\n"
     ]
    },
    {
     "name": "stderr",
     "output_type": "stream",
     "text": [
      "ERROR: os-sys has an invalid wheel, could not read 'os_sys-1.9.3.dist-info/WHEEL' file: KeyError(\"There is no item named 'os_sys-1.9.3.dist-info/WHEEL' in the archive\")\n"
     ]
    }
   ],
   "source": [
    "pip install os-sys"
   ]
  },
  {
   "cell_type": "code",
   "execution_count": 6,
   "id": "ba64a3a6",
   "metadata": {},
   "outputs": [
    {
     "name": "stdout",
     "output_type": "stream",
     "text": [
      "D:/Nachiketh\\invert73c6b93ee5dce6954b5b9929facd5d0d--digital-backdrops-digital-backgrounds.jpg\n",
      "D:/Nachiketh\\invertbright-blue-white-marble-background_213606-17.webp\n",
      "D:/Nachiketh\\invertFresh_Stock_Content.jpg\n",
      "D:/Nachiketh\\invertimages (1).jfif\n",
      "D:/Nachiketh\\invertimages (2).jfif\n",
      "D:/Nachiketh\\invertimages (3).jfif\n",
      "D:/Nachiketh\\invertimages.jfif\n",
      "D:/Nachiketh\\invertimages.png\n",
      "D:/Nachiketh\\invertlonely-man-under-night-sky--starry-sky-over-the-horizon--conte.jpg\n",
      "D:/Nachiketh\\invertpexels-pixabay-268533.jpg\n",
      "D:/Nachiketh\\invertphoto-1444703686981-a3abbc4d4fe3.jfif\n"
     ]
    }
   ],
   "source": [
    "from PIL import Image\n",
    "from PIL import ImageFilter\n",
    "import os\n",
    "\n",
    "def main():\n",
    "    inPath=\"D:/Nachiketh\"\n",
    "    outPath=\"D:/Nachiketh\"\n",
    "    \n",
    "    for imagePath in os.listdir(inPath):\n",
    "        inputPath=os.path.join(inPath, imagePath)\n",
    "        img=Image.open(inputPath)\n",
    "        fullOutPath=os.path.join(outPath,'invert'+imagePath)\n",
    "        img.rotate(90).save(fullOutPath)\n",
    "        \n",
    "        print(fullOutPath)\n",
    "        \n",
    "if __name__=='__main__':\n",
    "    main()"
   ]
  },
  {
   "cell_type": "code",
   "execution_count": null,
   "id": "b63fed40",
   "metadata": {},
   "outputs": [],
   "source": []
  }
 ],
 "metadata": {
  "kernelspec": {
   "display_name": "Python 3 (ipykernel)",
   "language": "python",
   "name": "python3"
  },
  "language_info": {
   "codemirror_mode": {
    "name": "ipython",
    "version": 3
   },
   "file_extension": ".py",
   "mimetype": "text/x-python",
   "name": "python",
   "nbconvert_exporter": "python",
   "pygments_lexer": "ipython3",
   "version": "3.9.7"
  }
 },
 "nbformat": 4,
 "nbformat_minor": 5
}
