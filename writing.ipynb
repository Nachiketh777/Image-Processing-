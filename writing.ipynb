{
 "cells": [
  {
   "cell_type": "code",
   "execution_count": 22,
   "id": "fd4f3009",
   "metadata": {},
   "outputs": [],
   "source": [
    "from PIL import Image,ImageDraw\n",
    "img=Image.open('3.jpg')\n",
    "d1=ImageDraw.Draw(img)\n",
    "d1.text((50,60),\"Hello , Friend\",fill=(255,255,255))\n",
    "img.show()"
   ]
  },
  {
   "cell_type": "code",
   "execution_count": 23,
   "id": "6eef16eb",
   "metadata": {},
   "outputs": [],
   "source": [
    "image1=Image.open('33.jpg')\n",
    "image2=Image.open('44.jpg')\n",
    "\n",
    "alphablend1=Image.blend(image1,image2,alpha=.4)\n",
    "alphablend2=Image.blend(image1,image2,alpha=.2)\n",
    "\n",
    "alphablend1.show()\n",
    "alphablend2.show()"
   ]
  },
  {
   "cell_type": "code",
   "execution_count": 25,
   "id": "ff1d9fb7",
   "metadata": {},
   "outputs": [],
   "source": [
    "#draw_color\n",
    "img=Image.new('RGB',(500,300),(125,125,125))\n",
    "draw=ImageDraw.Draw(img)\n",
    "draw.line((200,100,300,200),fill=(255,0,0),width=10)\n",
    "img.show()"
   ]
  },
  {
   "cell_type": "code",
   "execution_count": 26,
   "id": "7eb9cba7",
   "metadata": {},
   "outputs": [
    {
     "name": "stdout",
     "output_type": "stream",
     "text": [
      "[110.67188517252605, 117.73022588094075, 102.095458984375]\n"
     ]
    }
   ],
   "source": [
    "from PIL import Image,ImageStat\n",
    "im=Image.open('3.jpg')\n",
    "stat=ImageStat.Stat(im)\n",
    "print(stat.mean)"
   ]
  },
  {
   "cell_type": "code",
   "execution_count": 27,
   "id": "cfdad0f4",
   "metadata": {},
   "outputs": [
    {
     "name": "stdout",
     "output_type": "stream",
     "text": [
      "[110, 120, 97]\n"
     ]
    }
   ],
   "source": [
    "from PIL import Image,ImageStat\n",
    "im=Image.open('3.jpg')\n",
    "stat=ImageStat.Stat(im)\n",
    "print(stat.median)"
   ]
  },
  {
   "cell_type": "code",
   "execution_count": 28,
   "id": "b127d2d5",
   "metadata": {},
   "outputs": [
    {
     "name": "stdout",
     "output_type": "stream",
     "text": [
      "[55.11605710808568, 56.5011398739756, 59.84571930174107]\n"
     ]
    }
   ],
   "source": [
    "from PIL import Image,ImageStat\n",
    "im=Image.open('3.jpg')\n",
    "stat=ImageStat.Stat(im)\n",
    "print(stat.stddev)"
   ]
  },
  {
   "cell_type": "code",
   "execution_count": null,
   "id": "697dc4d7",
   "metadata": {},
   "outputs": [],
   "source": []
  }
 ],
 "metadata": {
  "kernelspec": {
   "display_name": "Python 3 (ipykernel)",
   "language": "python",
   "name": "python3"
  },
  "language_info": {
   "codemirror_mode": {
    "name": "ipython",
    "version": 3
   },
   "file_extension": ".py",
   "mimetype": "text/x-python",
   "name": "python",
   "nbconvert_exporter": "python",
   "pygments_lexer": "ipython3",
   "version": "3.9.7"
  }
 },
 "nbformat": 4,
 "nbformat_minor": 5
}
